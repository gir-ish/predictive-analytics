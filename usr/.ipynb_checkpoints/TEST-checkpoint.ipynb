{
 "cells": [
  {
   "cell_type": "code",
   "execution_count": 1,
   "id": "29ab5f0d-3b3d-4f97-a166-dc8e202a3f7b",
   "metadata": {},
   "outputs": [],
   "source": [
    "import numpy as np "
   ]
  },
  {
   "cell_type": "code",
   "execution_count": 7,
   "id": "d6c0141e-9fae-408f-abfc-c460b02d12bd",
   "metadata": {},
   "outputs": [],
   "source": [
    "df=np.load('../Chinese_train_MERT-v1-330M/file.npy')"
   ]
  },
  {
   "cell_type": "code",
   "execution_count": 8,
   "id": "78b608f3-1a98-422c-95ac-8b2f18c80a87",
   "metadata": {},
   "outputs": [
    {
     "data": {
      "text/plain": [
       "(27300, 1024)"
      ]
     },
     "execution_count": 8,
     "metadata": {},
     "output_type": "execute_result"
    }
   ],
   "source": [
    "df.shape"
   ]
  },
  {
   "cell_type": "code",
   "execution_count": 13,
   "id": "587d6789-f6df-4bd0-a308-c763497b503d",
   "metadata": {},
   "outputs": [
    {
     "data": {
      "text/plain": [
       "array([ 0.49493098,  1.2764775 , -0.38888812, ...,  1.0023859 ,\n",
       "        0.14322923,  4.5142136 ], dtype=float32)"
      ]
     },
     "execution_count": 13,
     "metadata": {},
     "output_type": "execute_result"
    }
   ],
   "source": [
    "df[0]"
   ]
  },
  {
   "cell_type": "code",
   "execution_count": 5,
   "id": "51655563-84d8-45e7-8fea-d94ca9ce8e57",
   "metadata": {},
   "outputs": [],
   "source": [
    "import pandas as pd\n",
    "\n",
    "csv_file_path = '/home/girish/Girish/RESEARCH/EMO-FAKE/FEATURES/MFCC/English_train_MFCC.csv'  \n",
    "df = pd.read_csv(csv_file_path)\n",
    "\n",
    "label_file_path = '/home/girish/Girish/RESEARCH/EMO-FAKE/FEATURES/label/English_train_label/label.txt'\n",
    "labels = {}\n",
    "with open(label_file_path, 'r') as file:\n",
    "    for line in file:\n",
    "        filename, label = line.strip().split(' ')\n",
    "        labels[filename] = label\n",
    "\n",
    "df['class'] = df['filename'].apply(lambda x: labels.get(x, 'Unknown'))\n",
    "\n",
    "# Save the updated CSV file\n",
    "df.to_csv(csv_file_path, index=False)\n"
   ]
  },
  {
   "cell_type": "code",
   "execution_count": null,
   "id": "f81ab3f4-206a-4bc5-b5ac-095e9eef2411",
   "metadata": {},
   "outputs": [],
   "source": []
  }
 ],
 "metadata": {
  "kernelspec": {
   "display_name": "Python (tf_gpu)",
   "language": "python",
   "name": "tf_gpu"
  },
  "language_info": {
   "codemirror_mode": {
    "name": "ipython",
    "version": 3
   },
   "file_extension": ".py",
   "mimetype": "text/x-python",
   "name": "python",
   "nbconvert_exporter": "python",
   "pygments_lexer": "ipython3",
   "version": "3.10.14"
  }
 },
 "nbformat": 4,
 "nbformat_minor": 5
}
