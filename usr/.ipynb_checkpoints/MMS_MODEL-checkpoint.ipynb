{
 "cells": [
  {
   "cell_type": "code",
   "execution_count": 19,
   "id": "9ac0222f-c029-4729-a8c3-13fb1d419024",
   "metadata": {},
   "outputs": [],
   "source": [
    "import pandas as pd\n",
    "import numpy as np\n",
    "import tensorflow as tf\n",
    "from sklearn.preprocessing import LabelEncoder\n",
    "from sklearn.metrics import classification_report\n",
    "from tensorflow.keras.models import Sequential\n",
    "from tensorflow.keras.layers import Conv1D, MaxPooling1D, Flatten, Dense, Dropout, BatchNormalization\n",
    "from tensorflow.keras.callbacks import ReduceLROnPlateau\n",
    "import sklearn.metrics  \n"
   ]
  },
  {
   "cell_type": "code",
   "execution_count": 20,
   "id": "eba21ea2-0d4b-4abf-8814-8e998f7ac51a",
   "metadata": {},
   "outputs": [],
   "source": [
    "\n",
    "def load_and_preprocess_data(train_file, dev_file, test_file):\n",
    "    train = pd.read_csv(train_file)\n",
    "    dev = pd.read_csv(dev_file)\n",
    "    test = pd.read_csv(test_file)\n",
    "    \n",
    "    X_train = train.iloc[:, 1:-1].values\n",
    "    y_train = train['class'].values\n",
    "\n",
    "    X_dev = dev.iloc[:, 1:-1].values\n",
    "    y_dev = dev['class'].values\n",
    "\n",
    "    X_test = test.iloc[:, 1:-1].values\n",
    "    y_test = test['class'].values\n",
    "\n",
    "    encoder = LabelEncoder()\n",
    "    y_train = encoder.fit_transform(y_train)\n",
    "    y_dev = encoder.transform(y_dev)\n",
    "    y_test = encoder.transform(y_test)\n",
    "\n",
    "    X_train = np.expand_dims(X_train, axis=2)\n",
    "    X_dev = np.expand_dims(X_dev, axis=2)\n",
    "    X_test = np.expand_dims(X_test, axis=2)\n",
    "    \n",
    "    return X_train, y_train, X_dev, y_dev, X_test, y_test\n",
    "\n",
    "def compute_eer(label, pred, positive_label=1):\n",
    "    fpr, tpr, threshold = sklearn.metrics.roc_curve(label, pred, pos_label=positive_label)\n",
    "    fnr = 1 - tpr\n",
    "    eer_threshold = threshold[np.nanargmin(np.absolute((fnr - fpr)))]\n",
    "    eer_1 = fpr[np.nanargmin(np.absolute((fnr - fpr)))]\n",
    "    eer_2 = fnr[np.nanargmin(np.absolute((fnr - fpr)))]\n",
    "    eer = (eer_1 + eer_2) / 2\n",
    "    return eer\n",
    "\n",
    "def build_cnn_model(input_shape, initial_learning_rate=0.001):\n",
    "    model = Sequential([\n",
    "        Conv1D(64, kernel_size=3, activation='relu', input_shape=input_shape),\n",
    "        BatchNormalization(), \n",
    "        MaxPooling1D(pool_size=2),\n",
    "        Dropout(0.2),   \n",
    "        Conv1D(128, kernel_size=3, activation='relu'),\n",
    "        BatchNormalization(),  \n",
    "        MaxPooling1D(pool_size=2),\n",
    "        Dropout(0.2),\n",
    "        Flatten(),\n",
    "        Dense(128, activation='relu'),\n",
    "        BatchNormalization(),  \n",
    "        Dropout(0.5),\n",
    "        Dense(2, activation='softmax')  \n",
    "    ])\n",
    "    \n",
    "    model.compile(\n",
    "        optimizer=tf.keras.optimizers.Adam(learning_rate=initial_learning_rate),\n",
    "        loss='sparse_categorical_crossentropy',\n",
    "        metrics=['accuracy']\n",
    "    )\n",
    "    \n",
    "    return model\n",
    "\n",
    "def train_and_evaluate_cnn(train_file, dev_file, test_file, epochs=10, batch_size=32, initial_learning_rate=0.001, model_save_path=\"cnn_MMS.h5\"):\n",
    "    X_train, y_train, X_dev, y_dev, X_test, y_test = load_and_preprocess_data(train_file, dev_file, test_file)\n",
    "    \n",
    "    model = build_cnn_model(input_shape=(X_train.shape[1], 1), initial_learning_rate=initial_learning_rate)\n",
    "  \n",
    "    reduce_lr = ReduceLROnPlateau(monitor='val_loss', factor=0.5, patience=3, min_lr=1e-6)\n",
    "    \n",
    "    model.fit(\n",
    "        X_train, y_train, \n",
    "        validation_data=(X_dev, y_dev), \n",
    "        epochs=epochs, \n",
    "        batch_size=batch_size,\n",
    "        callbacks=[reduce_lr]\n",
    "    )\n",
    "    \n",
    "    y_pred_prob = model.predict(X_test)[:, 1]  \n",
    "    y_pred = np.argmax(model.predict(X_test), axis=1)\n",
    "    print(classification_report(y_test, y_pred, target_names=['bonafide', 'spoof'], digits=4))\n",
    "\n",
    "    eer = compute_eer(y_test, y_pred_prob, positive_label=1)\n",
    "    eer_percentage = eer * 100  \n",
    "    print(f'Equal Error Rate (EER): {eer_percentage:.20f}%')\n",
    "\n",
    "    model.save(\"saved_cnn_MMS_model\")  # SavedModel format\n",
    "    print(\"Model saved in TensorFlow's SavedModel format.\")\n",
    "\n",
    "    keras_model_path = \"cnn_MMS.keras\"\n",
    "    model.save(keras_model_path)  # Valid Keras extension\n",
    "    print(f\"Model saved in both HDF5 and Keras formats at cnn_MMS.h5 and {keras_model_path}\")\n",
    "    \n",
    "    return model\n"
   ]
  },
  {
   "cell_type": "code",
   "execution_count": 21,
   "id": "8faf8764-429f-4aff-8b5c-926d86902249",
   "metadata": {
    "scrolled": true
   },
   "outputs": [
    {
     "name": "stdout",
     "output_type": "stream",
     "text": [
      "Epoch 1/10\n",
      "854/854 [==============================] - 42s 48ms/step - loss: 0.0275 - accuracy: 0.9908 - val_loss: 3.5304e-04 - val_accuracy: 1.0000 - lr: 0.0010\n",
      "Epoch 2/10\n",
      "854/854 [==============================] - 39s 45ms/step - loss: 0.0095 - accuracy: 0.9968 - val_loss: 3.8866e-05 - val_accuracy: 1.0000 - lr: 0.0010\n",
      "Epoch 3/10\n",
      "854/854 [==============================] - 39s 45ms/step - loss: 0.0058 - accuracy: 0.9981 - val_loss: 1.2100e-04 - val_accuracy: 1.0000 - lr: 0.0010\n",
      "Epoch 4/10\n",
      "854/854 [==============================] - 36s 42ms/step - loss: 0.0047 - accuracy: 0.9984 - val_loss: 1.9721e-05 - val_accuracy: 1.0000 - lr: 0.0010\n",
      "Epoch 5/10\n",
      "854/854 [==============================] - 37s 43ms/step - loss: 0.0046 - accuracy: 0.9984 - val_loss: 9.2678e-04 - val_accuracy: 0.9999 - lr: 0.0010\n",
      "Epoch 6/10\n",
      "854/854 [==============================] - 38s 44ms/step - loss: 0.0034 - accuracy: 0.9988 - val_loss: 3.4345e-06 - val_accuracy: 1.0000 - lr: 5.0000e-04\n",
      "Epoch 7/10\n",
      "854/854 [==============================] - 38s 45ms/step - loss: 0.0019 - accuracy: 0.9995 - val_loss: 9.9622e-06 - val_accuracy: 1.0000 - lr: 5.0000e-04\n",
      "Epoch 8/10\n",
      "854/854 [==============================] - 42s 49ms/step - loss: 0.0022 - accuracy: 0.9993 - val_loss: 5.2361e-06 - val_accuracy: 1.0000 - lr: 5.0000e-04\n",
      "Epoch 9/10\n",
      "854/854 [==============================] - 43s 50ms/step - loss: 0.0022 - accuracy: 0.9994 - val_loss: 3.8971e-06 - val_accuracy: 1.0000 - lr: 2.5000e-04\n",
      "Epoch 10/10\n",
      "854/854 [==============================] - 38s 44ms/step - loss: 0.0014 - accuracy: 0.9994 - val_loss: 2.4457e-06 - val_accuracy: 1.0000 - lr: 2.5000e-04\n",
      "547/547 [==============================] - 4s 8ms/step\n",
      "547/547 [==============================] - 5s 9ms/step\n",
      "              precision    recall  f1-score   support\n",
      "\n",
      "    bonafide     0.9991    1.0000    0.9996      3500\n",
      "       spoof     1.0000    0.9998    0.9999     14000\n",
      "\n",
      "    accuracy                         0.9998     17500\n",
      "   macro avg     0.9996    0.9999    0.9997     17500\n",
      "weighted avg     0.9998    0.9998    0.9998     17500\n",
      "\n",
      "Equal Error Rate (EER): 0.00000000000000000000%\n"
     ]
    },
    {
     "name": "stderr",
     "output_type": "stream",
     "text": [
      "WARNING:absl:Found untraced functions such as _jit_compiled_convolution_op, _jit_compiled_convolution_op while saving (showing 2 of 2). These functions will not be directly callable after loading.\n"
     ]
    },
    {
     "name": "stdout",
     "output_type": "stream",
     "text": [
      "INFO:tensorflow:Assets written to: saved_cnn_MMS_model/assets\n"
     ]
    },
    {
     "name": "stderr",
     "output_type": "stream",
     "text": [
      "INFO:tensorflow:Assets written to: saved_cnn_MMS_model/assets\n"
     ]
    },
    {
     "name": "stdout",
     "output_type": "stream",
     "text": [
      "Model saved in TensorFlow's SavedModel format.\n",
      "Model saved in both HDF5 and Keras formats at cnn_MMS.h5 and cnn_MMS.keras\n"
     ]
    }
   ],
   "source": [
    "train_file = '/home/girish/Girish/RESEARCH/EMO-FAKE/FEATURES/MMS/English_train_MMS/English_train_MMS.csv'\n",
    "dev_file = '/home/girish/Girish/RESEARCH/EMO-FAKE/FEATURES/MMS/English_dev_MMS/English_dev_MMS.csv'\n",
    "test_file = '/home/girish/Girish/RESEARCH/EMO-FAKE/FEATURES/MMS/English_test_MMS/English_test_MMS.csv'\n",
    "\n",
    "cnn_model = train_and_evaluate_cnn(\n",
    "    train_file, \n",
    "    dev_file, \n",
    "    test_file, \n",
    "    epochs=10, \n",
    "    batch_size=32, \n",
    "    initial_learning_rate=0.001 \n",
    ")\n"
   ]
  },
  {
   "cell_type": "code",
   "execution_count": null,
   "id": "e5e40079-0452-415a-8f67-341251fa35ca",
   "metadata": {},
   "outputs": [],
   "source": []
  },
  {
   "cell_type": "code",
   "execution_count": 1,
   "id": "53bfa595-0f07-4482-b546-ac250b384d16",
   "metadata": {},
   "outputs": [],
   "source": [
    "# emofake"
   ]
  },
  {
   "cell_type": "code",
   "execution_count": 1,
   "id": "ffa6e8d9-ce2c-4761-a1be-f48989281881",
   "metadata": {},
   "outputs": [
    {
     "name": "stderr",
     "output_type": "stream",
     "text": [
      "/home/girish/anaconda3/envs/Emo-fake/lib/python3.10/site-packages/tqdm/auto.py:21: TqdmWarning: IProgress not found. Please update jupyter and ipywidgets. See https://ipywidgets.readthedocs.io/en/stable/user_install.html\n",
      "  from .autonotebook import tqdm as notebook_tqdm\n",
      "2024-11-18 20:14:30.628289: I tensorflow/core/util/util.cc:169] oneDNN custom operations are on. You may see slightly different numerical results due to floating-point round-off errors from different computation orders. To turn them off, set the environment variable `TF_ENABLE_ONEDNN_OPTS=0`.\n",
      "2024-11-18 20:14:30.632294: W tensorflow/stream_executor/platform/default/dso_loader.cc:64] Could not load dynamic library 'libcudart.so.11.0'; dlerror: libcudart.so.11.0: cannot open shared object file: No such file or directory\n",
      "2024-11-18 20:14:30.632314: I tensorflow/stream_executor/cuda/cudart_stub.cc:29] Ignore above cudart dlerror if you do not have a GPU set up on your machine.\n"
     ]
    },
    {
     "name": "stdout",
     "output_type": "stream",
     "text": [
      "Using device: cuda\n",
      "(1280,)\n",
      "Shape of the extracted features: (1280,)\n"
     ]
    }
   ],
   "source": [
    "import os\n",
    "import numpy as np\n",
    "import torch\n",
    "from transformers import Wav2Vec2FeatureExtractor, Wav2Vec2Model\n",
    "import torchaudio\n",
    "from torchaudio.transforms import Resample\n",
    "file_path = \"0019_Angry_000351.wav\"  \n",
    "device = torch.device(\"cuda\" if torch.cuda.is_available() else \"cpu\")\n",
    "print(f\"Using device: {device}\")\n",
    "\n",
    "feature_extractor = Wav2Vec2FeatureExtractor.from_pretrained(\"facebook/mms-1b\")\n",
    "model = Wav2Vec2Model.from_pretrained(\"facebook/mms-1b\").to(device)\n",
    "\n",
    "def preprocess_audio(audio_path):\n",
    "    try:\n",
    "        waveform, sampling_rate = torchaudio.load(audio_path)\n",
    "\n",
    "        desired_sampling_rate = 16000\n",
    "        if sampling_rate != desired_sampling_rate:\n",
    "            resampler = Resample(sampling_rate, desired_sampling_rate)\n",
    "            waveform = resampler(waveform)\n",
    "        if waveform.shape[0] > 1:\n",
    "            waveform = waveform.mean(dim=0, keepdim=True)\n",
    "        \n",
    "        return waveform, desired_sampling_rate\n",
    "    except Exception as e:\n",
    "        print(f\"Error loading audio file {audio_path}: {e}\")\n",
    "        return None, None\n",
    "\n",
    "def extract_features(audio_path, feature_extractor, model, device):\n",
    "    waveform, fs = preprocess_audio(audio_path)\n",
    "    if waveform is None:\n",
    "        return None\n",
    "    inputs = feature_extractor(waveform.squeeze().numpy(), sampling_rate=fs, return_tensors=\"pt\").to(device)\n",
    "    \n",
    "    with torch.no_grad():\n",
    "        outputs = model(**inputs)\n",
    "        embeddings = outputs.last_hidden_state.cpu().numpy()\n",
    "    avg_embeddings = np.mean(embeddings.squeeze(), axis=0)\n",
    "    print(avg_embeddings.shape)\n",
    "    return avg_embeddings\n",
    "\n",
    "features = extract_features(file_path, feature_extractor, model, device)\n",
    "if features is not None:\n",
    "    print(f\"Shape of the extracted features: {features.shape}\")\n",
    "else:\n",
    "    print(\"Failed to extract features.\")\n"
   ]
  },
  {
   "cell_type": "code",
   "execution_count": 11,
   "id": "cb51a5e2-da4c-40da-914e-f11522140f57",
   "metadata": {},
   "outputs": [
    {
     "name": "stdout",
     "output_type": "stream",
     "text": [
      "854/854 [==============================] - 41s 47ms/step - loss: 0.0284 - accuracy: 0.9904 - val_loss: 3.5787e-05 - val_accuracy: 1.0000 - lr: 0.0010\n",
      "547/547 [==============================] - 5s 9ms/step\n",
      "              precision    recall  f1-score   support\n",
      "\n",
      "    bonafide     0.9879    1.0000    0.9939      3500\n",
      "       spoof     1.0000    0.9969    0.9985     14000\n",
      "\n",
      "    accuracy                         0.9975     17500\n",
      "   macro avg     0.9939    0.9985    0.9962     17500\n",
      "weighted avg     0.9976    0.9975    0.9975     17500\n",
      "\n"
     ]
    },
    {
     "name": "stderr",
     "output_type": "stream",
     "text": [
      "WARNING:absl:Found untraced functions such as _jit_compiled_convolution_op, _jit_compiled_convolution_op while saving (showing 2 of 2). These functions will not be directly callable after loading.\n"
     ]
    },
    {
     "name": "stdout",
     "output_type": "stream",
     "text": [
      "INFO:tensorflow:Assets written to: saved_cnn_MMS_model/assets\n"
     ]
    },
    {
     "name": "stderr",
     "output_type": "stream",
     "text": [
      "INFO:tensorflow:Assets written to: saved_cnn_MMS_model/assets\n"
     ]
    },
    {
     "name": "stdout",
     "output_type": "stream",
     "text": [
      "Model saved in TensorFlow's SavedModel format.\n",
      "Model saved to cnn_MMS.h5\n"
     ]
    },
    {
     "data": {
      "text/plain": [
       "<keras.engine.sequential.Sequential at 0x7f39b8819f30>"
      ]
     },
     "execution_count": 11,
     "metadata": {},
     "output_type": "execute_result"
    }
   ],
   "source": [
    "import pandas as pd\n",
    "import numpy as np\n",
    "from sklearn.preprocessing import LabelEncoder\n",
    "from sklearn.metrics import classification_report\n",
    "from tensorflow.keras.models import Sequential\n",
    "from tensorflow.keras.layers import Conv1D, MaxPooling1D, Flatten, Dense, Dropout, BatchNormalization\n",
    "from tensorflow.keras.callbacks import ReduceLROnPlateau\n",
    "from tensorflow.keras.models import load_model\n",
    "\n",
    "def load_and_preprocess_data(train_file, dev_file, test_file):\n",
    "    train = pd.read_csv(train_file)\n",
    "    dev = pd.read_csv(dev_file)\n",
    "    test = pd.read_csv(test_file)\n",
    "    \n",
    "    X_train = train.iloc[:, 1:-1].values\n",
    "    y_train = train['class'].values\n",
    "\n",
    "    X_dev = dev.iloc[:, 1:-1].values\n",
    "    y_dev = dev['class'].values\n",
    "\n",
    "    X_test = test.iloc[:, 1:-1].values\n",
    "    y_test = test['class'].values\n",
    "\n",
    "    encoder = LabelEncoder()\n",
    "    y_train = encoder.fit_transform(y_train)\n",
    "    y_dev = encoder.transform(y_dev)\n",
    "    y_test = encoder.transform(y_test)\n",
    "\n",
    "    X_train = np.expand_dims(X_train, axis=2)\n",
    "    X_dev = np.expand_dims(X_dev, axis=2)\n",
    "    X_test = np.expand_dims(X_test, axis=2)\n",
    "    \n",
    "    return X_train, y_train, X_dev, y_dev, X_test, y_test\n",
    "\n",
    "def build_cnn_model(input_shape, initial_learning_rate=0.001):\n",
    "    model = Sequential([\n",
    "        Conv1D(64, kernel_size=3, activation='relu', input_shape=input_shape),\n",
    "        BatchNormalization(),\n",
    "        MaxPooling1D(pool_size=2),\n",
    "        Dropout(0.2),\n",
    "        Conv1D(128, kernel_size=3, activation='relu'),\n",
    "        BatchNormalization(),\n",
    "        MaxPooling1D(pool_size=2),\n",
    "        Dropout(0.2),\n",
    "        Flatten(),\n",
    "        Dense(128, activation='relu'),\n",
    "        BatchNormalization(),\n",
    "        Dropout(0.5),\n",
    "        Dense(2, activation='softmax')  \n",
    "    ])\n",
    "    \n",
    "    model.compile(\n",
    "        optimizer='adam',\n",
    "        loss='sparse_categorical_crossentropy',\n",
    "        metrics=['accuracy']\n",
    "    )\n",
    "    return model\n",
    "\n",
    "def train_and_save_model(train_file, dev_file, test_file, model_save_path=\"cnn_MMS.h5\"):\n",
    "    X_train, y_train, X_dev, y_dev, X_test, y_test = load_and_preprocess_data(train_file, dev_file, test_file)\n",
    "    \n",
    "    model = build_cnn_model(input_shape=(X_train.shape[1], 1))\n",
    "  \n",
    "    reduce_lr = ReduceLROnPlateau(monitor='val_loss', factor=0.5, patience=3, min_lr=1e-6)\n",
    "    \n",
    "    model.fit(\n",
    "        X_train, y_train, \n",
    "        validation_data=(X_dev, y_dev), \n",
    "        epochs=1, \n",
    "        batch_size=32,\n",
    "        callbacks=[reduce_lr]\n",
    "    )\n",
    "    \n",
    "    y_pred = np.argmax(model.predict(X_test), axis=1)\n",
    "    print(classification_report(y_test, y_pred, target_names=['bonafide', 'spoof'], digits=4))\n",
    "  \n",
    "    model.save(\"saved_cnn_MMS_model\") \n",
    "    print(\"Model saved in TensorFlow's SavedModel format.\")\n",
    "\n",
    "    model.save(model_save_path)\n",
    "    print(f\"Model saved to {model_save_path}\")\n",
    "    return model\n",
    "\n",
    "train_file = '/home/girish/Girish/RESEARCH/EMO-FAKE/FEATURES/MMS/English_train_MMS/English_train_MMS.csv'\n",
    "dev_file = '/home/girish/Girish/RESEARCH/EMO-FAKE/FEATURES/MMS/English_dev_MMS/English_dev_MMS.csv'\n",
    "test_file = '/home/girish/Girish/RESEARCH/EMO-FAKE/FEATURES/MMS/English_test_MMS/English_test_MMS.csv'\n",
    "\n",
    "train_and_save_model(train_file, dev_file, test_file)\n"
   ]
  },
  {
   "cell_type": "code",
   "execution_count": 12,
   "id": "1770191b-7c79-42ce-a8fb-be91d4c3bd2d",
   "metadata": {},
   "outputs": [
    {
     "name": "stdout",
     "output_type": "stream",
     "text": [
      "Model loaded successfully from SavedModel format.\n"
     ]
    }
   ],
   "source": [
    "from tensorflow.keras.models import load_model\n",
    "\n",
    "saved_model_path = \"saved_cnn_MMS_model\"\n",
    "\n",
    "try:\n",
    "    cnn_model = load_model(saved_model_path)\n",
    "    print(\"Model loaded successfully from SavedModel format.\")\n",
    "except Exception as e:\n",
    "    print(f\"Error loading model: {e}\")\n"
   ]
  },
  {
   "cell_type": "code",
   "execution_count": 18,
   "id": "f8efd98d-d291-4516-adf5-32187d1642eb",
   "metadata": {},
   "outputs": [
    {
     "name": "stdout",
     "output_type": "stream",
     "text": [
      "Using device: cuda\n",
      "TensorFlow model loaded successfully.\n",
      "Extracted Embeddings Shape: (1280,)\n",
      "Reshaped Features for CNN: (1, 1280, 1)\n",
      "1/1 [==============================] - 0s 158ms/step\n",
      "Predicted Class: bonafide\n",
      "Class Probabilities: [[9.9999833e-01 1.6508124e-06]]\n"
     ]
    }
   ],
   "source": [
    "import os\n",
    "import numpy as np\n",
    "import torch\n",
    "from transformers import Wav2Vec2FeatureExtractor, Wav2Vec2Model\n",
    "import torchaudio\n",
    "from torchaudio.transforms import Resample\n",
    "from tensorflow.keras.models import load_model\n",
    "\n",
    "file_path = \"0019_Angry_000351.wav\" \n",
    "saved_model_path = \"saved_cnn_MMS_model\" \n",
    "device = torch.device(\"cuda\" if torch.cuda.is_available() else \"cpu\")\n",
    "print(f\"Using device: {device}\")\n",
    "feature_extractor = Wav2Vec2FeatureExtractor.from_pretrained(\"facebook/mms-1b\")\n",
    "wav2vec_model = Wav2Vec2Model.from_pretrained(\"facebook/mms-1b\").to(device)\n",
    "\n",
    "def preprocess_audio(audio_path):\n",
    "    try:\n",
    "        waveform, sampling_rate = torchaudio.load(audio_path)\n",
    "\n",
    "        desired_sampling_rate = 16000\n",
    "        if sampling_rate != desired_sampling_rate:\n",
    "            resampler = Resample(sampling_rate, desired_sampling_rate)\n",
    "            waveform = resampler(waveform)\n",
    "        if waveform.shape[0] > 1:  # Convert to mono if stereo\n",
    "            waveform = waveform.mean(dim=0, keepdim=True)\n",
    "        \n",
    "        return waveform, desired_sampling_rate\n",
    "    except Exception as e:\n",
    "        print(f\"Error loading audio file {audio_path}: {e}\")\n",
    "        return None, None\n",
    "\n",
    "def extract_features(audio_path, feature_extractor, wav2vec_model, device):\n",
    "    waveform, fs = preprocess_audio(audio_path)\n",
    "    if waveform is None:\n",
    "        return None\n",
    "    inputs = feature_extractor(waveform.squeeze().numpy(), sampling_rate=fs, return_tensors=\"pt\").to(device)\n",
    "    \n",
    "    with torch.no_grad():\n",
    "        outputs = wav2vec_model(**inputs)\n",
    "        embeddings = outputs.last_hidden_state.cpu().numpy()\n",
    "    avg_embeddings = np.mean(embeddings.squeeze(), axis=0)\n",
    "    print(f\"Extracted Embeddings Shape: {avg_embeddings.shape}\")\n",
    "    return avg_embeddings\n",
    "\n",
    "try:\n",
    "    cnn_model = load_model(saved_model_path)\n",
    "    print(\"TensorFlow model loaded successfully.\")\n",
    "except Exception as e:\n",
    "    print(f\"Error loading TensorFlow model: {e}\")\n",
    "    exit()\n",
    "\n",
    "def predict_with_cnn(audio_path, cnn_model, feature_extractor, wav2vec_model, device):\n",
    "    features = extract_features(audio_path, feature_extractor, wav2vec_model, device)\n",
    "    if features is None:\n",
    "        print(\"Failed to extract features.\")\n",
    "        return\n",
    "\n",
    "    features = np.expand_dims(features, axis=0)  \n",
    "    features = np.expand_dims(features, axis=2)  \n",
    "    print(f\"Reshaped Features for CNN: {features.shape}\")\n",
    "\n",
    "    predictions = cnn_model.predict(features)\n",
    "    predicted_class = np.argmax(predictions, axis=1)\n",
    "\n",
    "    class_names = [\"bonafide\", \"spoof\"]\n",
    "    print(f\"Predicted Class: {class_names[predicted_class[0]]}\")\n",
    "    print(f\"Class Probabilities: {predictions}\")\n",
    "\n",
    "predict_with_cnn(file_path, cnn_model, feature_extractor, wav2vec_model, device)\n"
   ]
  },
  {
   "cell_type": "code",
   "execution_count": null,
   "id": "9dd41d74-cd1b-4208-86f4-d1b24eb1b5bf",
   "metadata": {},
   "outputs": [],
   "source": []
  }
 ],
 "metadata": {
  "kernelspec": {
   "display_name": "Python (Emo-fake)",
   "language": "python",
   "name": "emo-fake"
  },
  "language_info": {
   "codemirror_mode": {
    "name": "ipython",
    "version": 3
   },
   "file_extension": ".py",
   "mimetype": "text/x-python",
   "name": "python",
   "nbconvert_exporter": "python",
   "pygments_lexer": "ipython3",
   "version": "3.10.15"
  }
 },
 "nbformat": 4,
 "nbformat_minor": 5
}
